{
 "cells": [
  {
   "cell_type": "code",
   "execution_count": null,
   "metadata": {},
   "outputs": [],
   "source": [
    "#  正面模特头部替换方法步骤\n",
    "\n",
    "# 1. 将源头像以鼻子为中心 ，纠偏\n",
    "# 2 . 求取脖子和脸颊分割线的交点 \n",
    "# 3. 将源头像沿脸颊分割线+ delta 抠图，\n",
    "# 4. 估计一个平移和缩放变换 tx,ty ,s  , 使得目标脸颊和脖子交点 PN_T  经过 源头像脸颊线， 且源头像要正中\n",
    "# 5. 肤色进行融合 ，目标头像和模特头像肤色融合"
   ]
  }
 ],
 "metadata": {
  "kernelspec": {
   "display_name": "Python 3",
   "language": "python",
   "name": "python3"
  },
  "language_info": {
   "codemirror_mode": {
    "name": "ipython",
    "version": 3
   },
   "file_extension": ".py",
   "mimetype": "text/x-python",
   "name": "python",
   "nbconvert_exporter": "python",
   "pygments_lexer": "ipython3",
   "version": "3.6.7"
  }
 },
 "nbformat": 4,
 "nbformat_minor": 2
}
